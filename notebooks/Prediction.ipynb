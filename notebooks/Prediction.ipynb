{
 "cells": [
  {
   "cell_type": "code",
   "execution_count": 1,
   "metadata": {
    "collapsed": true
   },
   "outputs": [],
   "source": [
    "import utils"
   ]
  },
  {
   "cell_type": "code",
   "execution_count": 2,
   "outputs": [],
   "source": [
    "df = utils.read_csv()"
   ],
   "metadata": {
    "collapsed": false,
    "pycharm": {
     "name": "#%%\n"
    }
   }
  },
  {
   "cell_type": "code",
   "execution_count": 3,
   "outputs": [
    {
     "data": {
      "text/plain": "  Stock  Year      Sector       Revenue  Gross Profit  R&D Expenses  \\\n0     A  2014  Healthcare  4.048000e+09  1.976000e+09   358000000.0   \n1     A  2015  Healthcare  4.038000e+09  2.041000e+09   330000000.0   \n2     A  2016  Healthcare  4.202000e+09  2.197000e+09   329000000.0   \n3     A  2017  Healthcare  4.472000e+09  2.409000e+09   339000000.0   \n4     A  2018  Healthcare  4.914000e+09  2.687000e+09   385000000.0   \n\n   SG&A Expense  Operating Income  Interest Expense  Earnings before Tax  ...  \\\n0  1.199000e+09       419000000.0       110000000.0          546000000.0  ...   \n1  1.189000e+09       522000000.0        66000000.0          443000000.0  ...   \n2  1.253000e+09       615000000.0        72000000.0          544000000.0  ...   \n3  1.229000e+09       841000000.0        79000000.0          803000000.0  ...   \n4  1.374000e+09       928000000.0        75000000.0          946000000.0  ...   \n\n   Free Cash Flow growth  Receivables growth  Inventory Growth  Asset Growth  \\\n0                -0.4369             -0.3037           -0.4615        0.0121   \n1                -0.2111             -0.0319           -0.0575       -0.3085   \n2                 0.5352              0.0413           -0.0148        0.0421   \n3                 0.0902              0.1474            0.0788        0.0811   \n4                 0.2777              0.0718            0.1096        0.0136   \n\n   Book Value per Share Growth  Debt Growth  R&D Expense Growth  \\\n0                       0.0270      -0.3838              0.0623   \n1                      -0.2139      -0.0048             -0.0782   \n2                       0.0400       0.1505             -0.0030   \n3                       0.1527       0.0562              0.0304   \n4                      -0.0517      -0.1054              0.1357   \n\n   SG&A Expenses Growth  PRICE VAR [%]  Class  \n0                0.0127       4.179246      1  \n1               -0.0083      13.194947      1  \n2                0.0538      45.350940      1  \n3               -0.0192       0.717881      1  \n4                0.1180      30.976102      1  \n\n[5 rows x 121 columns]",
      "text/html": "<div>\n<style scoped>\n    .dataframe tbody tr th:only-of-type {\n        vertical-align: middle;\n    }\n\n    .dataframe tbody tr th {\n        vertical-align: top;\n    }\n\n    .dataframe thead th {\n        text-align: right;\n    }\n</style>\n<table border=\"1\" class=\"dataframe\">\n  <thead>\n    <tr style=\"text-align: right;\">\n      <th></th>\n      <th>Stock</th>\n      <th>Year</th>\n      <th>Sector</th>\n      <th>Revenue</th>\n      <th>Gross Profit</th>\n      <th>R&amp;D Expenses</th>\n      <th>SG&amp;A Expense</th>\n      <th>Operating Income</th>\n      <th>Interest Expense</th>\n      <th>Earnings before Tax</th>\n      <th>...</th>\n      <th>Free Cash Flow growth</th>\n      <th>Receivables growth</th>\n      <th>Inventory Growth</th>\n      <th>Asset Growth</th>\n      <th>Book Value per Share Growth</th>\n      <th>Debt Growth</th>\n      <th>R&amp;D Expense Growth</th>\n      <th>SG&amp;A Expenses Growth</th>\n      <th>PRICE VAR [%]</th>\n      <th>Class</th>\n    </tr>\n  </thead>\n  <tbody>\n    <tr>\n      <th>0</th>\n      <td>A</td>\n      <td>2014</td>\n      <td>Healthcare</td>\n      <td>4.048000e+09</td>\n      <td>1.976000e+09</td>\n      <td>358000000.0</td>\n      <td>1.199000e+09</td>\n      <td>419000000.0</td>\n      <td>110000000.0</td>\n      <td>546000000.0</td>\n      <td>...</td>\n      <td>-0.4369</td>\n      <td>-0.3037</td>\n      <td>-0.4615</td>\n      <td>0.0121</td>\n      <td>0.0270</td>\n      <td>-0.3838</td>\n      <td>0.0623</td>\n      <td>0.0127</td>\n      <td>4.179246</td>\n      <td>1</td>\n    </tr>\n    <tr>\n      <th>1</th>\n      <td>A</td>\n      <td>2015</td>\n      <td>Healthcare</td>\n      <td>4.038000e+09</td>\n      <td>2.041000e+09</td>\n      <td>330000000.0</td>\n      <td>1.189000e+09</td>\n      <td>522000000.0</td>\n      <td>66000000.0</td>\n      <td>443000000.0</td>\n      <td>...</td>\n      <td>-0.2111</td>\n      <td>-0.0319</td>\n      <td>-0.0575</td>\n      <td>-0.3085</td>\n      <td>-0.2139</td>\n      <td>-0.0048</td>\n      <td>-0.0782</td>\n      <td>-0.0083</td>\n      <td>13.194947</td>\n      <td>1</td>\n    </tr>\n    <tr>\n      <th>2</th>\n      <td>A</td>\n      <td>2016</td>\n      <td>Healthcare</td>\n      <td>4.202000e+09</td>\n      <td>2.197000e+09</td>\n      <td>329000000.0</td>\n      <td>1.253000e+09</td>\n      <td>615000000.0</td>\n      <td>72000000.0</td>\n      <td>544000000.0</td>\n      <td>...</td>\n      <td>0.5352</td>\n      <td>0.0413</td>\n      <td>-0.0148</td>\n      <td>0.0421</td>\n      <td>0.0400</td>\n      <td>0.1505</td>\n      <td>-0.0030</td>\n      <td>0.0538</td>\n      <td>45.350940</td>\n      <td>1</td>\n    </tr>\n    <tr>\n      <th>3</th>\n      <td>A</td>\n      <td>2017</td>\n      <td>Healthcare</td>\n      <td>4.472000e+09</td>\n      <td>2.409000e+09</td>\n      <td>339000000.0</td>\n      <td>1.229000e+09</td>\n      <td>841000000.0</td>\n      <td>79000000.0</td>\n      <td>803000000.0</td>\n      <td>...</td>\n      <td>0.0902</td>\n      <td>0.1474</td>\n      <td>0.0788</td>\n      <td>0.0811</td>\n      <td>0.1527</td>\n      <td>0.0562</td>\n      <td>0.0304</td>\n      <td>-0.0192</td>\n      <td>0.717881</td>\n      <td>1</td>\n    </tr>\n    <tr>\n      <th>4</th>\n      <td>A</td>\n      <td>2018</td>\n      <td>Healthcare</td>\n      <td>4.914000e+09</td>\n      <td>2.687000e+09</td>\n      <td>385000000.0</td>\n      <td>1.374000e+09</td>\n      <td>928000000.0</td>\n      <td>75000000.0</td>\n      <td>946000000.0</td>\n      <td>...</td>\n      <td>0.2777</td>\n      <td>0.0718</td>\n      <td>0.1096</td>\n      <td>0.0136</td>\n      <td>-0.0517</td>\n      <td>-0.1054</td>\n      <td>0.1357</td>\n      <td>0.1180</td>\n      <td>30.976102</td>\n      <td>1</td>\n    </tr>\n  </tbody>\n</table>\n<p>5 rows × 121 columns</p>\n</div>"
     },
     "execution_count": 3,
     "metadata": {},
     "output_type": "execute_result"
    }
   ],
   "source": [
    "df.head()\n"
   ],
   "metadata": {
    "collapsed": false,
    "pycharm": {
     "name": "#%%\n"
    }
   }
  }
 ],
 "metadata": {
  "kernelspec": {
   "display_name": "Python 3",
   "language": "python",
   "name": "python3"
  },
  "language_info": {
   "codemirror_mode": {
    "name": "ipython",
    "version": 2
   },
   "file_extension": ".py",
   "mimetype": "text/x-python",
   "name": "python",
   "nbconvert_exporter": "python",
   "pygments_lexer": "ipython2",
   "version": "2.7.6"
  }
 },
 "nbformat": 4,
 "nbformat_minor": 0
}