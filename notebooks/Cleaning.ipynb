{
 "cells": [
  {
   "cell_type": "code",
   "execution_count": 1,
   "metadata": {
    "collapsed": true
   },
   "outputs": [],
   "source": [
    "import utils"
   ]
  },
  {
   "cell_type": "code",
   "execution_count": 2,
   "outputs": [],
   "source": [
    "df = utils.read_csv(years=[\"2014\", \"2015\", \"2016\", \"2017\", \"2018\"])"
   ],
   "metadata": {
    "collapsed": false,
    "pycharm": {
     "name": "#%%\n"
    }
   }
  },
  {
   "cell_type": "code",
   "execution_count": 3,
   "outputs": [
    {
     "data": {
      "text/plain": "(22077, 226)"
     },
     "execution_count": 3,
     "metadata": {},
     "output_type": "execute_result"
    }
   ],
   "source": [
    "df.shape"
   ],
   "metadata": {
    "collapsed": false,
    "pycharm": {
     "name": "#%%\n"
    }
   }
  },
  {
   "cell_type": "code",
   "execution_count": 4,
   "outputs": [
    {
     "data": {
      "text/plain": "      Stock       Revenue  Revenue Growth  Cost of Revenue  Gross Profit  \\\n460       A  4.048000e+09          0.0395     2.072000e+09  1.976000e+09   \n4300      A  4.038000e+09         -0.0025     1.997000e+09  2.041000e+09   \n8452      A  4.202000e+09          0.0406     2.005000e+09  2.197000e+09   \n13261     A  4.472000e+09          0.0643     2.063000e+09  2.409000e+09   \n18242     A  4.914000e+09          0.0988     2.227000e+09  2.687000e+09   \n\n       R&D Expenses  SG&A Expense  Operating Expenses  Operating Income  \\\n460     358000000.0  1.199000e+09        1.557000e+09       419000000.0   \n4300    330000000.0  1.189000e+09        1.519000e+09       522000000.0   \n8452    329000000.0  1.253000e+09        1.582000e+09       615000000.0   \n13261   339000000.0  1.229000e+09        1.568000e+09       841000000.0   \n18242   385000000.0  1.374000e+09        1.759000e+09       928000000.0   \n\n       Interest Expense  ...  Inventory Growth  Asset Growth  \\\n460         110000000.0  ...           -0.4615        0.0121   \n4300         66000000.0  ...           -0.0575       -0.3085   \n8452         72000000.0  ...           -0.0148        0.0421   \n13261        79000000.0  ...            0.0788        0.0811   \n18242        75000000.0  ...            0.1096        0.0136   \n\n       Book Value per Share Growth  Debt Growth  R&D Expense Growth  \\\n460                         0.0270      -0.3838              0.0623   \n4300                       -0.2139      -0.0048             -0.0782   \n8452                        0.0400       0.1505             -0.0030   \n13261                       0.1527       0.0562              0.0304   \n18242                      -0.0517      -0.1054              0.1357   \n\n       SG&A Expenses Growth      Sector  PRICE VAR [%]  Class  Year  \n460                  0.0127  Healthcare       4.179246      1  2014  \n4300                -0.0083  Healthcare      13.194947      1  2015  \n8452                 0.0538  Healthcare      45.350940      1  2016  \n13261               -0.0192  Healthcare       0.717881      1  2017  \n18242                0.1180  Healthcare      30.976102      1  2018  \n\n[5 rows x 226 columns]",
      "text/html": "<div>\n<style scoped>\n    .dataframe tbody tr th:only-of-type {\n        vertical-align: middle;\n    }\n\n    .dataframe tbody tr th {\n        vertical-align: top;\n    }\n\n    .dataframe thead th {\n        text-align: right;\n    }\n</style>\n<table border=\"1\" class=\"dataframe\">\n  <thead>\n    <tr style=\"text-align: right;\">\n      <th></th>\n      <th>Stock</th>\n      <th>Revenue</th>\n      <th>Revenue Growth</th>\n      <th>Cost of Revenue</th>\n      <th>Gross Profit</th>\n      <th>R&amp;D Expenses</th>\n      <th>SG&amp;A Expense</th>\n      <th>Operating Expenses</th>\n      <th>Operating Income</th>\n      <th>Interest Expense</th>\n      <th>...</th>\n      <th>Inventory Growth</th>\n      <th>Asset Growth</th>\n      <th>Book Value per Share Growth</th>\n      <th>Debt Growth</th>\n      <th>R&amp;D Expense Growth</th>\n      <th>SG&amp;A Expenses Growth</th>\n      <th>Sector</th>\n      <th>PRICE VAR [%]</th>\n      <th>Class</th>\n      <th>Year</th>\n    </tr>\n  </thead>\n  <tbody>\n    <tr>\n      <th>460</th>\n      <td>A</td>\n      <td>4.048000e+09</td>\n      <td>0.0395</td>\n      <td>2.072000e+09</td>\n      <td>1.976000e+09</td>\n      <td>358000000.0</td>\n      <td>1.199000e+09</td>\n      <td>1.557000e+09</td>\n      <td>419000000.0</td>\n      <td>110000000.0</td>\n      <td>...</td>\n      <td>-0.4615</td>\n      <td>0.0121</td>\n      <td>0.0270</td>\n      <td>-0.3838</td>\n      <td>0.0623</td>\n      <td>0.0127</td>\n      <td>Healthcare</td>\n      <td>4.179246</td>\n      <td>1</td>\n      <td>2014</td>\n    </tr>\n    <tr>\n      <th>4300</th>\n      <td>A</td>\n      <td>4.038000e+09</td>\n      <td>-0.0025</td>\n      <td>1.997000e+09</td>\n      <td>2.041000e+09</td>\n      <td>330000000.0</td>\n      <td>1.189000e+09</td>\n      <td>1.519000e+09</td>\n      <td>522000000.0</td>\n      <td>66000000.0</td>\n      <td>...</td>\n      <td>-0.0575</td>\n      <td>-0.3085</td>\n      <td>-0.2139</td>\n      <td>-0.0048</td>\n      <td>-0.0782</td>\n      <td>-0.0083</td>\n      <td>Healthcare</td>\n      <td>13.194947</td>\n      <td>1</td>\n      <td>2015</td>\n    </tr>\n    <tr>\n      <th>8452</th>\n      <td>A</td>\n      <td>4.202000e+09</td>\n      <td>0.0406</td>\n      <td>2.005000e+09</td>\n      <td>2.197000e+09</td>\n      <td>329000000.0</td>\n      <td>1.253000e+09</td>\n      <td>1.582000e+09</td>\n      <td>615000000.0</td>\n      <td>72000000.0</td>\n      <td>...</td>\n      <td>-0.0148</td>\n      <td>0.0421</td>\n      <td>0.0400</td>\n      <td>0.1505</td>\n      <td>-0.0030</td>\n      <td>0.0538</td>\n      <td>Healthcare</td>\n      <td>45.350940</td>\n      <td>1</td>\n      <td>2016</td>\n    </tr>\n    <tr>\n      <th>13261</th>\n      <td>A</td>\n      <td>4.472000e+09</td>\n      <td>0.0643</td>\n      <td>2.063000e+09</td>\n      <td>2.409000e+09</td>\n      <td>339000000.0</td>\n      <td>1.229000e+09</td>\n      <td>1.568000e+09</td>\n      <td>841000000.0</td>\n      <td>79000000.0</td>\n      <td>...</td>\n      <td>0.0788</td>\n      <td>0.0811</td>\n      <td>0.1527</td>\n      <td>0.0562</td>\n      <td>0.0304</td>\n      <td>-0.0192</td>\n      <td>Healthcare</td>\n      <td>0.717881</td>\n      <td>1</td>\n      <td>2017</td>\n    </tr>\n    <tr>\n      <th>18242</th>\n      <td>A</td>\n      <td>4.914000e+09</td>\n      <td>0.0988</td>\n      <td>2.227000e+09</td>\n      <td>2.687000e+09</td>\n      <td>385000000.0</td>\n      <td>1.374000e+09</td>\n      <td>1.759000e+09</td>\n      <td>928000000.0</td>\n      <td>75000000.0</td>\n      <td>...</td>\n      <td>0.1096</td>\n      <td>0.0136</td>\n      <td>-0.0517</td>\n      <td>-0.1054</td>\n      <td>0.1357</td>\n      <td>0.1180</td>\n      <td>Healthcare</td>\n      <td>30.976102</td>\n      <td>1</td>\n      <td>2018</td>\n    </tr>\n  </tbody>\n</table>\n<p>5 rows × 226 columns</p>\n</div>"
     },
     "execution_count": 4,
     "metadata": {},
     "output_type": "execute_result"
    }
   ],
   "source": [
    "df.head()"
   ],
   "metadata": {
    "collapsed": false,
    "pycharm": {
     "name": "#%%\n"
    }
   }
  },
  {
   "cell_type": "code",
   "execution_count": 5,
   "outputs": [
    {
     "data": {
      "text/plain": "      Stock       Revenue  Revenue Growth  Cost of Revenue  Gross Profit  \\\n1      VIPS  3.734148e+09          1.1737     2.805625e+09  9.285226e+08   \n3809   VIPS  6.193685e+09          0.6587     4.669038e+09  1.524648e+09   \n7929   VIPS  8.148496e+09          0.3156     6.190740e+09  1.957756e+09   \n12726  VIPS  1.102060e+10          0.3525     8.557810e+09  2.462794e+09   \n17723  VIPS  1.223212e+10          0.1099     9.761936e+09  2.470183e+09   \n\n       R&D Expenses  SG&A Expense  Operating Expenses  Operating Income  \\\n1      1.083303e+08  3.441414e+08        7.939267e+08      1.345959e+08   \n3809   1.658481e+08  5.223879e+08        1.205660e+09      3.189877e+08   \n7929   2.251378e+08  6.880959e+08        1.567877e+09      3.898789e+08   \n12726  2.733452e+08  8.201852e+08        2.056136e+09      4.066575e+08   \n17723  2.895650e+08  8.559521e+08        2.119805e+09      3.503781e+08   \n\n       Interest Expense  ...  Inventory Growth  Asset Growth  \\\n1          1.214869e+07  ...               NaN           NaN   \n3809       1.321245e+07  ...            0.2144        0.1279   \n7929       1.226710e+07  ...            0.0128        0.1706   \n12726      1.245995e+07  ...            0.4764        0.5889   \n17723      2.311780e+07  ...           -0.2616        0.0981   \n\n       Book Value per Share Growth  Debt Growth  R&D Expense Growth  \\\n1                              NaN          NaN              1.6484   \n3809                        0.2946       0.0281              0.5309   \n7929                        0.5109      -0.0139              0.3575   \n12726                       1.5821       0.3805              0.2141   \n17723                       0.0276       0.1032              0.0593   \n\n       SG&A Expenses Growth              Sector  PRICE VAR [%]  Class  Year  \n1                    1.7313  Consumer Defensive     -25.512193      0  2014  \n3809                 0.5179  Consumer Defensive     -21.637010      0  2015  \n7929                 0.3172  Consumer Defensive       4.363319      1  2016  \n12726                0.1920  Consumer Defensive     -56.320000      0  2017  \n17723                0.0436  Consumer Defensive     160.000010      1  2018  \n\n[5 rows x 226 columns]",
      "text/html": "<div>\n<style scoped>\n    .dataframe tbody tr th:only-of-type {\n        vertical-align: middle;\n    }\n\n    .dataframe tbody tr th {\n        vertical-align: top;\n    }\n\n    .dataframe thead th {\n        text-align: right;\n    }\n</style>\n<table border=\"1\" class=\"dataframe\">\n  <thead>\n    <tr style=\"text-align: right;\">\n      <th></th>\n      <th>Stock</th>\n      <th>Revenue</th>\n      <th>Revenue Growth</th>\n      <th>Cost of Revenue</th>\n      <th>Gross Profit</th>\n      <th>R&amp;D Expenses</th>\n      <th>SG&amp;A Expense</th>\n      <th>Operating Expenses</th>\n      <th>Operating Income</th>\n      <th>Interest Expense</th>\n      <th>...</th>\n      <th>Inventory Growth</th>\n      <th>Asset Growth</th>\n      <th>Book Value per Share Growth</th>\n      <th>Debt Growth</th>\n      <th>R&amp;D Expense Growth</th>\n      <th>SG&amp;A Expenses Growth</th>\n      <th>Sector</th>\n      <th>PRICE VAR [%]</th>\n      <th>Class</th>\n      <th>Year</th>\n    </tr>\n  </thead>\n  <tbody>\n    <tr>\n      <th>1</th>\n      <td>VIPS</td>\n      <td>3.734148e+09</td>\n      <td>1.1737</td>\n      <td>2.805625e+09</td>\n      <td>9.285226e+08</td>\n      <td>1.083303e+08</td>\n      <td>3.441414e+08</td>\n      <td>7.939267e+08</td>\n      <td>1.345959e+08</td>\n      <td>1.214869e+07</td>\n      <td>...</td>\n      <td>NaN</td>\n      <td>NaN</td>\n      <td>NaN</td>\n      <td>NaN</td>\n      <td>1.6484</td>\n      <td>1.7313</td>\n      <td>Consumer Defensive</td>\n      <td>-25.512193</td>\n      <td>0</td>\n      <td>2014</td>\n    </tr>\n    <tr>\n      <th>3809</th>\n      <td>VIPS</td>\n      <td>6.193685e+09</td>\n      <td>0.6587</td>\n      <td>4.669038e+09</td>\n      <td>1.524648e+09</td>\n      <td>1.658481e+08</td>\n      <td>5.223879e+08</td>\n      <td>1.205660e+09</td>\n      <td>3.189877e+08</td>\n      <td>1.321245e+07</td>\n      <td>...</td>\n      <td>0.2144</td>\n      <td>0.1279</td>\n      <td>0.2946</td>\n      <td>0.0281</td>\n      <td>0.5309</td>\n      <td>0.5179</td>\n      <td>Consumer Defensive</td>\n      <td>-21.637010</td>\n      <td>0</td>\n      <td>2015</td>\n    </tr>\n    <tr>\n      <th>7929</th>\n      <td>VIPS</td>\n      <td>8.148496e+09</td>\n      <td>0.3156</td>\n      <td>6.190740e+09</td>\n      <td>1.957756e+09</td>\n      <td>2.251378e+08</td>\n      <td>6.880959e+08</td>\n      <td>1.567877e+09</td>\n      <td>3.898789e+08</td>\n      <td>1.226710e+07</td>\n      <td>...</td>\n      <td>0.0128</td>\n      <td>0.1706</td>\n      <td>0.5109</td>\n      <td>-0.0139</td>\n      <td>0.3575</td>\n      <td>0.3172</td>\n      <td>Consumer Defensive</td>\n      <td>4.363319</td>\n      <td>1</td>\n      <td>2016</td>\n    </tr>\n    <tr>\n      <th>12726</th>\n      <td>VIPS</td>\n      <td>1.102060e+10</td>\n      <td>0.3525</td>\n      <td>8.557810e+09</td>\n      <td>2.462794e+09</td>\n      <td>2.733452e+08</td>\n      <td>8.201852e+08</td>\n      <td>2.056136e+09</td>\n      <td>4.066575e+08</td>\n      <td>1.245995e+07</td>\n      <td>...</td>\n      <td>0.4764</td>\n      <td>0.5889</td>\n      <td>1.5821</td>\n      <td>0.3805</td>\n      <td>0.2141</td>\n      <td>0.1920</td>\n      <td>Consumer Defensive</td>\n      <td>-56.320000</td>\n      <td>0</td>\n      <td>2017</td>\n    </tr>\n    <tr>\n      <th>17723</th>\n      <td>VIPS</td>\n      <td>1.223212e+10</td>\n      <td>0.1099</td>\n      <td>9.761936e+09</td>\n      <td>2.470183e+09</td>\n      <td>2.895650e+08</td>\n      <td>8.559521e+08</td>\n      <td>2.119805e+09</td>\n      <td>3.503781e+08</td>\n      <td>2.311780e+07</td>\n      <td>...</td>\n      <td>-0.2616</td>\n      <td>0.0981</td>\n      <td>0.0276</td>\n      <td>0.1032</td>\n      <td>0.0593</td>\n      <td>0.0436</td>\n      <td>Consumer Defensive</td>\n      <td>160.000010</td>\n      <td>1</td>\n      <td>2018</td>\n    </tr>\n  </tbody>\n</table>\n<p>5 rows × 226 columns</p>\n</div>"
     },
     "execution_count": 5,
     "metadata": {},
     "output_type": "execute_result"
    }
   ],
   "source": [
    "df[df[\"Stock\"] == \"VIPS\"]"
   ],
   "metadata": {
    "collapsed": false,
    "pycharm": {
     "name": "#%%\n"
    }
   }
  },
  {
   "cell_type": "code",
   "execution_count": 6,
   "outputs": [
    {
     "data": {
      "text/plain": "'Class'"
     },
     "execution_count": 6,
     "metadata": {},
     "output_type": "execute_result"
    }
   ],
   "source": [
    "df.columns[-2]"
   ],
   "metadata": {
    "collapsed": false,
    "pycharm": {
     "name": "#%%\n"
    }
   }
  },
  {
   "cell_type": "code",
   "execution_count": 7,
   "outputs": [],
   "source": [
    "utils.write_csv(df=df, filename=\"Cleaned_Financial_Data.csv\")"
   ],
   "metadata": {
    "collapsed": false,
    "pycharm": {
     "name": "#%%\n"
    }
   }
  },
  {
   "cell_type": "code",
   "execution_count": 8,
   "outputs": [],
   "source": [
    "df = utils.read_csv()"
   ],
   "metadata": {
    "collapsed": false,
    "pycharm": {
     "name": "#%%\n"
    }
   }
  },
  {
   "cell_type": "code",
   "execution_count": 9,
   "outputs": [
    {
     "data": {
      "text/plain": "      Stock       Revenue  Revenue Growth  Cost of Revenue  Gross Profit  \\\n460       A  4.048000e+09          0.0395     2.072000e+09  1.976000e+09   \n4300      A  4.038000e+09         -0.0025     1.997000e+09  2.041000e+09   \n8452      A  4.202000e+09          0.0406     2.005000e+09  2.197000e+09   \n13261     A  4.472000e+09          0.0643     2.063000e+09  2.409000e+09   \n18242     A  4.914000e+09          0.0988     2.227000e+09  2.687000e+09   \n180      AA  1.314700e+10          0.0457     1.054800e+10  2.599000e+09   \n3998     AA  1.119900e+10         -0.1482     9.039000e+09  2.160000e+09   \n8135     AA  9.318000e+09         -0.1680     7.877000e+09  1.441000e+09   \n12939    AA  1.165200e+10          0.2505     8.991000e+09  2.661000e+09   \n17848    AA  1.340300e+10          0.1503     1.008100e+10  3.322000e+09   \n2489   AABA           NaN             NaN              NaN  3.230758e+09   \n6464   AABA  4.968000e+09             NaN              NaN  2.812000e+09   \n10770  AABA  5.169000e+09          0.0405              NaN  2.392000e+09   \n15677  AABA  7.600000e+07         -0.9853              NaN  5.446000e+07   \n17766  AABA  2.119900e+10        277.9342              NaN  3.328040e+08   \n1459    AAL  4.265000e+10          0.5948     2.213600e+10  2.051400e+10   \n5368    AAL  4.099000e+10         -0.0389     1.707900e+10  2.391100e+10   \n9607    AAL  4.014200e+10         -0.0207     1.592400e+10  2.421800e+10   \n14457   AAL  4.262200e+10          0.0618     1.763600e+10  2.498600e+10   \n17914   AAL  4.454100e+10          0.0450     2.040000e+10  2.414100e+10   \n\n       R&D Expenses  SG&A Expense  Operating Expenses  Operating Income  \\\n460     358000000.0  1.199000e+09        1.557000e+09      4.190000e+08   \n4300    330000000.0  1.189000e+09        1.519000e+09      5.220000e+08   \n8452    329000000.0  1.253000e+09        1.582000e+09      6.150000e+08   \n13261   339000000.0  1.229000e+09        1.568000e+09      8.410000e+08   \n18242   385000000.0  1.374000e+09        1.759000e+09      9.280000e+08   \n180      95000000.0  3.830000e+08        2.353000e+09      2.460000e+08   \n3998     69000000.0  3.530000e+08        2.227000e+09     -6.700000e+07   \n8135     33000000.0  3.560000e+08        1.360000e+09      8.100000e+07   \n12939    32000000.0  2.800000e+08        1.398000e+09      1.263000e+09   \n17848    31000000.0  2.480000e+08        1.603000e+09      1.719000e+09   \n2489            NaN           NaN        3.087816e+09      1.429420e+08   \n6464            NaN           NaN        5.103235e+09     -2.070000e+08   \n10770           NaN           NaN        5.364887e+09     -2.700000e+08   \n15677           NaN           NaN        4.780900e+07      1.510000e+10   \n17766           NaN           NaN        8.079400e+07     -1.267800e+10   \n1459            0.0  1.005200e+10        1.626500e+10      4.249000e+09   \n5368            0.0  1.091800e+10        1.770700e+10      6.204000e+09   \n9607            0.0  1.229000e+10        1.915800e+10      5.060000e+09   \n14457           0.0  1.343100e+10        2.075500e+10      4.231000e+09   \n17914           0.0  1.377100e+10        2.148500e+10      2.656000e+09   \n\n       Interest Expense  ...  Inventory Growth  Asset Growth  \\\n460        1.100000e+08  ...           -0.4615        0.0121   \n4300       6.600000e+07  ...           -0.0575       -0.3085   \n8452       7.200000e+07  ...           -0.0148        0.0421   \n13261      7.900000e+07  ...            0.0788        0.0811   \n18242      7.500000e+07  ...            0.1096        0.0136   \n180        3.090000e+08  ...               NaN           NaN   \n3998       2.700000e+08  ...           -0.2192       -0.1214   \n8135       2.430000e+08  ...           -0.0102        0.0200   \n12939      1.040000e+08  ...            0.2526        0.0422   \n17848      1.220000e+08  ...            0.2519       -0.0754   \n2489       0.000000e+00  ...            0.0000        2.6720   \n6464      -7.186500e+07  ...            0.0000       -0.2674   \n10770     -7.378300e+07  ...            0.0000        0.0637   \n15677     -7.004100e+07  ...            0.0000        0.6888   \n17766     -1.784800e+08  ...            0.0000       -0.4144   \n1459       8.870000e+08  ...           -0.0079        0.0224   \n5368       8.800000e+08  ...           -0.1404        0.1201   \n9607       9.910000e+08  ...            0.2677        0.0591   \n14457      1.053000e+09  ...            0.2422        0.0295   \n17914      1.056000e+09  ...            0.1199        0.1477   \n\n       Book Value per Share Growth  Debt Growth  R&D Expense Growth  \\\n460                         0.0270      -0.3838              0.0623   \n4300                       -0.2139      -0.0048             -0.0782   \n8452                        0.0400       0.1505             -0.0030   \n13261                       0.1527       0.0562              0.0304   \n18242                      -0.0517      -0.1054              0.1357   \n180                            NaN          NaN              0.1047   \n3998                           NaN      -0.3421             -0.2737   \n8135                       -0.4012       5.4222             -0.5217   \n12939                      -0.2093      -0.0284             -0.0303   \n17848                       0.2323       0.2835             -0.0313   \n2489                        0.2404      -0.0765                 NaN   \n6464                        0.0247       7.9141                 NaN   \n10770                       2.1660       0.0539                 NaN   \n15677                      -0.2466       0.0539                 NaN   \n17766                       0.0574       0.0539                 NaN   \n1459                        1.3463       0.0548              0.0000   \n5368                        2.1725       0.1603              0.0000   \n9607                       -0.1829       0.1840              0.0000   \n14457                      -1.2231       0.0296              0.0000   \n17914                       0.7748       0.3576              0.0000   \n\n       SG&A Expenses Growth              Sector  PRICE VAR [%]  Class  Year  \n460                  0.0127          Healthcare       4.179246      1  2014  \n4300                -0.0083          Healthcare      13.194947      1  2015  \n8452                 0.0538          Healthcare      45.350940      1  2016  \n13261               -0.0192          Healthcare       0.717881      1  2017  \n18242                0.1180          Healthcare      30.976102      1  2018  \n180                 -0.0567     Basic Materials     -37.203411      0  2014  \n3998                -0.0783     Basic Materials      22.046441      1  2015  \n8135                 0.0085     Basic Materials      86.853968      1  2016  \n12939               -0.2135     Basic Materials     -51.821641      0  2017  \n17848               -0.1143     Basic Materials     -18.025913      0  2018  \n2489                    NaN  Financial Services     -33.705402      0  2014  \n6464                    NaN  Financial Services      23.152870      1  2015  \n10770                   NaN  Financial Services      79.562978      1  2016  \n15677                   NaN  Financial Services     -20.771226      0  2017  \n17766                   NaN  Financial Services      25.257522      1  2018  \n1459                 0.5189         Industrials     -20.768098      0  2014  \n5368                 0.0862         Industrials      15.404948      1  2015  \n9607                 0.1257         Industrials      13.344850      1  2016  \n14457                0.0928         Industrials     -38.817936      0  2017  \n17914                0.0253         Industrials     -10.602069      0  2018  \n\n[20 rows x 226 columns]",
      "text/html": "<div>\n<style scoped>\n    .dataframe tbody tr th:only-of-type {\n        vertical-align: middle;\n    }\n\n    .dataframe tbody tr th {\n        vertical-align: top;\n    }\n\n    .dataframe thead th {\n        text-align: right;\n    }\n</style>\n<table border=\"1\" class=\"dataframe\">\n  <thead>\n    <tr style=\"text-align: right;\">\n      <th></th>\n      <th>Stock</th>\n      <th>Revenue</th>\n      <th>Revenue Growth</th>\n      <th>Cost of Revenue</th>\n      <th>Gross Profit</th>\n      <th>R&amp;D Expenses</th>\n      <th>SG&amp;A Expense</th>\n      <th>Operating Expenses</th>\n      <th>Operating Income</th>\n      <th>Interest Expense</th>\n      <th>...</th>\n      <th>Inventory Growth</th>\n      <th>Asset Growth</th>\n      <th>Book Value per Share Growth</th>\n      <th>Debt Growth</th>\n      <th>R&amp;D Expense Growth</th>\n      <th>SG&amp;A Expenses Growth</th>\n      <th>Sector</th>\n      <th>PRICE VAR [%]</th>\n      <th>Class</th>\n      <th>Year</th>\n    </tr>\n  </thead>\n  <tbody>\n    <tr>\n      <th>460</th>\n      <td>A</td>\n      <td>4.048000e+09</td>\n      <td>0.0395</td>\n      <td>2.072000e+09</td>\n      <td>1.976000e+09</td>\n      <td>358000000.0</td>\n      <td>1.199000e+09</td>\n      <td>1.557000e+09</td>\n      <td>4.190000e+08</td>\n      <td>1.100000e+08</td>\n      <td>...</td>\n      <td>-0.4615</td>\n      <td>0.0121</td>\n      <td>0.0270</td>\n      <td>-0.3838</td>\n      <td>0.0623</td>\n      <td>0.0127</td>\n      <td>Healthcare</td>\n      <td>4.179246</td>\n      <td>1</td>\n      <td>2014</td>\n    </tr>\n    <tr>\n      <th>4300</th>\n      <td>A</td>\n      <td>4.038000e+09</td>\n      <td>-0.0025</td>\n      <td>1.997000e+09</td>\n      <td>2.041000e+09</td>\n      <td>330000000.0</td>\n      <td>1.189000e+09</td>\n      <td>1.519000e+09</td>\n      <td>5.220000e+08</td>\n      <td>6.600000e+07</td>\n      <td>...</td>\n      <td>-0.0575</td>\n      <td>-0.3085</td>\n      <td>-0.2139</td>\n      <td>-0.0048</td>\n      <td>-0.0782</td>\n      <td>-0.0083</td>\n      <td>Healthcare</td>\n      <td>13.194947</td>\n      <td>1</td>\n      <td>2015</td>\n    </tr>\n    <tr>\n      <th>8452</th>\n      <td>A</td>\n      <td>4.202000e+09</td>\n      <td>0.0406</td>\n      <td>2.005000e+09</td>\n      <td>2.197000e+09</td>\n      <td>329000000.0</td>\n      <td>1.253000e+09</td>\n      <td>1.582000e+09</td>\n      <td>6.150000e+08</td>\n      <td>7.200000e+07</td>\n      <td>...</td>\n      <td>-0.0148</td>\n      <td>0.0421</td>\n      <td>0.0400</td>\n      <td>0.1505</td>\n      <td>-0.0030</td>\n      <td>0.0538</td>\n      <td>Healthcare</td>\n      <td>45.350940</td>\n      <td>1</td>\n      <td>2016</td>\n    </tr>\n    <tr>\n      <th>13261</th>\n      <td>A</td>\n      <td>4.472000e+09</td>\n      <td>0.0643</td>\n      <td>2.063000e+09</td>\n      <td>2.409000e+09</td>\n      <td>339000000.0</td>\n      <td>1.229000e+09</td>\n      <td>1.568000e+09</td>\n      <td>8.410000e+08</td>\n      <td>7.900000e+07</td>\n      <td>...</td>\n      <td>0.0788</td>\n      <td>0.0811</td>\n      <td>0.1527</td>\n      <td>0.0562</td>\n      <td>0.0304</td>\n      <td>-0.0192</td>\n      <td>Healthcare</td>\n      <td>0.717881</td>\n      <td>1</td>\n      <td>2017</td>\n    </tr>\n    <tr>\n      <th>18242</th>\n      <td>A</td>\n      <td>4.914000e+09</td>\n      <td>0.0988</td>\n      <td>2.227000e+09</td>\n      <td>2.687000e+09</td>\n      <td>385000000.0</td>\n      <td>1.374000e+09</td>\n      <td>1.759000e+09</td>\n      <td>9.280000e+08</td>\n      <td>7.500000e+07</td>\n      <td>...</td>\n      <td>0.1096</td>\n      <td>0.0136</td>\n      <td>-0.0517</td>\n      <td>-0.1054</td>\n      <td>0.1357</td>\n      <td>0.1180</td>\n      <td>Healthcare</td>\n      <td>30.976102</td>\n      <td>1</td>\n      <td>2018</td>\n    </tr>\n    <tr>\n      <th>180</th>\n      <td>AA</td>\n      <td>1.314700e+10</td>\n      <td>0.0457</td>\n      <td>1.054800e+10</td>\n      <td>2.599000e+09</td>\n      <td>95000000.0</td>\n      <td>3.830000e+08</td>\n      <td>2.353000e+09</td>\n      <td>2.460000e+08</td>\n      <td>3.090000e+08</td>\n      <td>...</td>\n      <td>NaN</td>\n      <td>NaN</td>\n      <td>NaN</td>\n      <td>NaN</td>\n      <td>0.1047</td>\n      <td>-0.0567</td>\n      <td>Basic Materials</td>\n      <td>-37.203411</td>\n      <td>0</td>\n      <td>2014</td>\n    </tr>\n    <tr>\n      <th>3998</th>\n      <td>AA</td>\n      <td>1.119900e+10</td>\n      <td>-0.1482</td>\n      <td>9.039000e+09</td>\n      <td>2.160000e+09</td>\n      <td>69000000.0</td>\n      <td>3.530000e+08</td>\n      <td>2.227000e+09</td>\n      <td>-6.700000e+07</td>\n      <td>2.700000e+08</td>\n      <td>...</td>\n      <td>-0.2192</td>\n      <td>-0.1214</td>\n      <td>NaN</td>\n      <td>-0.3421</td>\n      <td>-0.2737</td>\n      <td>-0.0783</td>\n      <td>Basic Materials</td>\n      <td>22.046441</td>\n      <td>1</td>\n      <td>2015</td>\n    </tr>\n    <tr>\n      <th>8135</th>\n      <td>AA</td>\n      <td>9.318000e+09</td>\n      <td>-0.1680</td>\n      <td>7.877000e+09</td>\n      <td>1.441000e+09</td>\n      <td>33000000.0</td>\n      <td>3.560000e+08</td>\n      <td>1.360000e+09</td>\n      <td>8.100000e+07</td>\n      <td>2.430000e+08</td>\n      <td>...</td>\n      <td>-0.0102</td>\n      <td>0.0200</td>\n      <td>-0.4012</td>\n      <td>5.4222</td>\n      <td>-0.5217</td>\n      <td>0.0085</td>\n      <td>Basic Materials</td>\n      <td>86.853968</td>\n      <td>1</td>\n      <td>2016</td>\n    </tr>\n    <tr>\n      <th>12939</th>\n      <td>AA</td>\n      <td>1.165200e+10</td>\n      <td>0.2505</td>\n      <td>8.991000e+09</td>\n      <td>2.661000e+09</td>\n      <td>32000000.0</td>\n      <td>2.800000e+08</td>\n      <td>1.398000e+09</td>\n      <td>1.263000e+09</td>\n      <td>1.040000e+08</td>\n      <td>...</td>\n      <td>0.2526</td>\n      <td>0.0422</td>\n      <td>-0.2093</td>\n      <td>-0.0284</td>\n      <td>-0.0303</td>\n      <td>-0.2135</td>\n      <td>Basic Materials</td>\n      <td>-51.821641</td>\n      <td>0</td>\n      <td>2017</td>\n    </tr>\n    <tr>\n      <th>17848</th>\n      <td>AA</td>\n      <td>1.340300e+10</td>\n      <td>0.1503</td>\n      <td>1.008100e+10</td>\n      <td>3.322000e+09</td>\n      <td>31000000.0</td>\n      <td>2.480000e+08</td>\n      <td>1.603000e+09</td>\n      <td>1.719000e+09</td>\n      <td>1.220000e+08</td>\n      <td>...</td>\n      <td>0.2519</td>\n      <td>-0.0754</td>\n      <td>0.2323</td>\n      <td>0.2835</td>\n      <td>-0.0313</td>\n      <td>-0.1143</td>\n      <td>Basic Materials</td>\n      <td>-18.025913</td>\n      <td>0</td>\n      <td>2018</td>\n    </tr>\n    <tr>\n      <th>2489</th>\n      <td>AABA</td>\n      <td>NaN</td>\n      <td>NaN</td>\n      <td>NaN</td>\n      <td>3.230758e+09</td>\n      <td>NaN</td>\n      <td>NaN</td>\n      <td>3.087816e+09</td>\n      <td>1.429420e+08</td>\n      <td>0.000000e+00</td>\n      <td>...</td>\n      <td>0.0000</td>\n      <td>2.6720</td>\n      <td>0.2404</td>\n      <td>-0.0765</td>\n      <td>NaN</td>\n      <td>NaN</td>\n      <td>Financial Services</td>\n      <td>-33.705402</td>\n      <td>0</td>\n      <td>2014</td>\n    </tr>\n    <tr>\n      <th>6464</th>\n      <td>AABA</td>\n      <td>4.968000e+09</td>\n      <td>NaN</td>\n      <td>NaN</td>\n      <td>2.812000e+09</td>\n      <td>NaN</td>\n      <td>NaN</td>\n      <td>5.103235e+09</td>\n      <td>-2.070000e+08</td>\n      <td>-7.186500e+07</td>\n      <td>...</td>\n      <td>0.0000</td>\n      <td>-0.2674</td>\n      <td>0.0247</td>\n      <td>7.9141</td>\n      <td>NaN</td>\n      <td>NaN</td>\n      <td>Financial Services</td>\n      <td>23.152870</td>\n      <td>1</td>\n      <td>2015</td>\n    </tr>\n    <tr>\n      <th>10770</th>\n      <td>AABA</td>\n      <td>5.169000e+09</td>\n      <td>0.0405</td>\n      <td>NaN</td>\n      <td>2.392000e+09</td>\n      <td>NaN</td>\n      <td>NaN</td>\n      <td>5.364887e+09</td>\n      <td>-2.700000e+08</td>\n      <td>-7.378300e+07</td>\n      <td>...</td>\n      <td>0.0000</td>\n      <td>0.0637</td>\n      <td>2.1660</td>\n      <td>0.0539</td>\n      <td>NaN</td>\n      <td>NaN</td>\n      <td>Financial Services</td>\n      <td>79.562978</td>\n      <td>1</td>\n      <td>2016</td>\n    </tr>\n    <tr>\n      <th>15677</th>\n      <td>AABA</td>\n      <td>7.600000e+07</td>\n      <td>-0.9853</td>\n      <td>NaN</td>\n      <td>5.446000e+07</td>\n      <td>NaN</td>\n      <td>NaN</td>\n      <td>4.780900e+07</td>\n      <td>1.510000e+10</td>\n      <td>-7.004100e+07</td>\n      <td>...</td>\n      <td>0.0000</td>\n      <td>0.6888</td>\n      <td>-0.2466</td>\n      <td>0.0539</td>\n      <td>NaN</td>\n      <td>NaN</td>\n      <td>Financial Services</td>\n      <td>-20.771226</td>\n      <td>0</td>\n      <td>2017</td>\n    </tr>\n    <tr>\n      <th>17766</th>\n      <td>AABA</td>\n      <td>2.119900e+10</td>\n      <td>277.9342</td>\n      <td>NaN</td>\n      <td>3.328040e+08</td>\n      <td>NaN</td>\n      <td>NaN</td>\n      <td>8.079400e+07</td>\n      <td>-1.267800e+10</td>\n      <td>-1.784800e+08</td>\n      <td>...</td>\n      <td>0.0000</td>\n      <td>-0.4144</td>\n      <td>0.0574</td>\n      <td>0.0539</td>\n      <td>NaN</td>\n      <td>NaN</td>\n      <td>Financial Services</td>\n      <td>25.257522</td>\n      <td>1</td>\n      <td>2018</td>\n    </tr>\n    <tr>\n      <th>1459</th>\n      <td>AAL</td>\n      <td>4.265000e+10</td>\n      <td>0.5948</td>\n      <td>2.213600e+10</td>\n      <td>2.051400e+10</td>\n      <td>0.0</td>\n      <td>1.005200e+10</td>\n      <td>1.626500e+10</td>\n      <td>4.249000e+09</td>\n      <td>8.870000e+08</td>\n      <td>...</td>\n      <td>-0.0079</td>\n      <td>0.0224</td>\n      <td>1.3463</td>\n      <td>0.0548</td>\n      <td>0.0000</td>\n      <td>0.5189</td>\n      <td>Industrials</td>\n      <td>-20.768098</td>\n      <td>0</td>\n      <td>2014</td>\n    </tr>\n    <tr>\n      <th>5368</th>\n      <td>AAL</td>\n      <td>4.099000e+10</td>\n      <td>-0.0389</td>\n      <td>1.707900e+10</td>\n      <td>2.391100e+10</td>\n      <td>0.0</td>\n      <td>1.091800e+10</td>\n      <td>1.770700e+10</td>\n      <td>6.204000e+09</td>\n      <td>8.800000e+08</td>\n      <td>...</td>\n      <td>-0.1404</td>\n      <td>0.1201</td>\n      <td>2.1725</td>\n      <td>0.1603</td>\n      <td>0.0000</td>\n      <td>0.0862</td>\n      <td>Industrials</td>\n      <td>15.404948</td>\n      <td>1</td>\n      <td>2015</td>\n    </tr>\n    <tr>\n      <th>9607</th>\n      <td>AAL</td>\n      <td>4.014200e+10</td>\n      <td>-0.0207</td>\n      <td>1.592400e+10</td>\n      <td>2.421800e+10</td>\n      <td>0.0</td>\n      <td>1.229000e+10</td>\n      <td>1.915800e+10</td>\n      <td>5.060000e+09</td>\n      <td>9.910000e+08</td>\n      <td>...</td>\n      <td>0.2677</td>\n      <td>0.0591</td>\n      <td>-0.1829</td>\n      <td>0.1840</td>\n      <td>0.0000</td>\n      <td>0.1257</td>\n      <td>Industrials</td>\n      <td>13.344850</td>\n      <td>1</td>\n      <td>2016</td>\n    </tr>\n    <tr>\n      <th>14457</th>\n      <td>AAL</td>\n      <td>4.262200e+10</td>\n      <td>0.0618</td>\n      <td>1.763600e+10</td>\n      <td>2.498600e+10</td>\n      <td>0.0</td>\n      <td>1.343100e+10</td>\n      <td>2.075500e+10</td>\n      <td>4.231000e+09</td>\n      <td>1.053000e+09</td>\n      <td>...</td>\n      <td>0.2422</td>\n      <td>0.0295</td>\n      <td>-1.2231</td>\n      <td>0.0296</td>\n      <td>0.0000</td>\n      <td>0.0928</td>\n      <td>Industrials</td>\n      <td>-38.817936</td>\n      <td>0</td>\n      <td>2017</td>\n    </tr>\n    <tr>\n      <th>17914</th>\n      <td>AAL</td>\n      <td>4.454100e+10</td>\n      <td>0.0450</td>\n      <td>2.040000e+10</td>\n      <td>2.414100e+10</td>\n      <td>0.0</td>\n      <td>1.377100e+10</td>\n      <td>2.148500e+10</td>\n      <td>2.656000e+09</td>\n      <td>1.056000e+09</td>\n      <td>...</td>\n      <td>0.1199</td>\n      <td>0.1477</td>\n      <td>0.7748</td>\n      <td>0.3576</td>\n      <td>0.0000</td>\n      <td>0.0253</td>\n      <td>Industrials</td>\n      <td>-10.602069</td>\n      <td>0</td>\n      <td>2018</td>\n    </tr>\n  </tbody>\n</table>\n<p>20 rows × 226 columns</p>\n</div>"
     },
     "execution_count": 9,
     "metadata": {},
     "output_type": "execute_result"
    }
   ],
   "source": [
    "df.head(20)"
   ],
   "metadata": {
    "collapsed": false,
    "pycharm": {
     "name": "#%%\n"
    }
   }
  },
  {
   "cell_type": "code",
   "execution_count": 9,
   "outputs": [],
   "source": [],
   "metadata": {
    "collapsed": false,
    "pycharm": {
     "name": "#%%\n"
    }
   }
  }
 ],
 "metadata": {
  "kernelspec": {
   "display_name": "Python 3",
   "language": "python",
   "name": "python3"
  },
  "language_info": {
   "codemirror_mode": {
    "name": "ipython",
    "version": 2
   },
   "file_extension": ".py",
   "mimetype": "text/x-python",
   "name": "python",
   "nbconvert_exporter": "python",
   "pygments_lexer": "ipython2",
   "version": "2.7.6"
  }
 },
 "nbformat": 4,
 "nbformat_minor": 0
}